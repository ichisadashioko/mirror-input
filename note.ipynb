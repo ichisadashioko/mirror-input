{
	"cells": [
		{
			"cell_type": "code",
			"execution_count": 1,
			"id": "executive-lobby",
			"metadata": {},
			"outputs": [],
			"source": [
				"import pynput\n",
				"import pynput.keyboard\n",
				"import pynput.mouse"
			]
		},
		{
			"cell_type": "code",
			"execution_count": 4,
			"id": "dramatic-binary",
			"metadata": {},
			"outputs": [
				{
					"data": {
						"text/plain": [
							"<enum 'Key'>"
						]
					},
					"execution_count": 4,
					"metadata": {},
					"output_type": "execute_result"
				}
			],
			"source": [
				"pynput.keyboard.Key"
			]
		},
		{
			"cell_type": "code",
			"execution_count": 5,
			"id": "funny-apartment",
			"metadata": {},
			"outputs": [
				{
					"data": {
						"text/plain": [
							"62"
						]
					},
					"execution_count": 5,
					"metadata": {},
					"output_type": "execute_result"
				}
			],
			"source": [
				"key_list = list(pynput.keyboard.Key)\n",
				"len(key_list)"
			]
		},
		{
			"cell_type": "code",
			"execution_count": 6,
			"id": "fantastic-mother",
			"metadata": {},
			"outputs": [
				{
					"data": {
						"text/plain": [
							"[<Key.alt: <18>>,\n",
							" <Key.alt_l: <164>>,\n",
							" <Key.alt_r: <165>>,\n",
							" <Key.alt_gr: <165>>,\n",
							" <Key.backspace: <8>>,\n",
							" <Key.caps_lock: <20>>,\n",
							" <Key.cmd: <91>>,\n",
							" <Key.cmd_r: <92>>,\n",
							" <Key.ctrl: <17>>,\n",
							" <Key.ctrl_l: <162>>,\n",
							" <Key.ctrl_r: <163>>,\n",
							" <Key.delete: <46>>,\n",
							" <Key.down: <40>>,\n",
							" <Key.end: <35>>,\n",
							" <Key.enter: <13>>,\n",
							" <Key.esc: <27>>,\n",
							" <Key.f1: <112>>,\n",
							" <Key.f2: <113>>,\n",
							" <Key.f3: <114>>,\n",
							" <Key.f4: <115>>,\n",
							" <Key.f5: <116>>,\n",
							" <Key.f6: <117>>,\n",
							" <Key.f7: <118>>,\n",
							" <Key.f8: <119>>,\n",
							" <Key.f9: <120>>,\n",
							" <Key.f10: <121>>,\n",
							" <Key.f11: <122>>,\n",
							" <Key.f12: <123>>,\n",
							" <Key.f13: <124>>,\n",
							" <Key.f14: <125>>,\n",
							" <Key.f15: <126>>,\n",
							" <Key.f16: <127>>,\n",
							" <Key.f17: <128>>,\n",
							" <Key.f18: <129>>,\n",
							" <Key.f19: <130>>,\n",
							" <Key.f20: <131>>,\n",
							" <Key.f21: <132>>,\n",
							" <Key.f22: <133>>,\n",
							" <Key.f23: <134>>,\n",
							" <Key.f24: <135>>,\n",
							" <Key.home: <36>>,\n",
							" <Key.left: <37>>,\n",
							" <Key.page_down: <34>>,\n",
							" <Key.page_up: <33>>,\n",
							" <Key.right: <39>>,\n",
							" <Key.shift: <160>>,\n",
							" <Key.shift_r: <161>>,\n",
							" <Key.space: ' '>,\n",
							" <Key.tab: <9>>,\n",
							" <Key.up: <38>>,\n",
							" <Key.media_play_pause: <179>>,\n",
							" <Key.media_volume_mute: <173>>,\n",
							" <Key.media_volume_down: <174>>,\n",
							" <Key.media_volume_up: <175>>,\n",
							" <Key.media_previous: <177>>,\n",
							" <Key.media_next: <176>>,\n",
							" <Key.insert: <45>>,\n",
							" <Key.menu: <93>>,\n",
							" <Key.num_lock: <144>>,\n",
							" <Key.pause: <19>>,\n",
							" <Key.print_screen: <44>>,\n",
							" <Key.scroll_lock: <145>>]"
						]
					},
					"execution_count": 6,
					"metadata": {},
					"output_type": "execute_result"
				}
			],
			"source": [
				"key_list"
			]
		}
	],
	"metadata": {
		"kernelspec": {
			"display_name": "Python 3",
			"language": "python",
			"name": "python3"
		},
		"language_info": {
			"codemirror_mode": {
				"name": "ipython",
				"version": 3
			},
			"file_extension": ".py",
			"mimetype": "text/x-python",
			"name": "python",
			"nbconvert_exporter": "python",
			"pygments_lexer": "ipython3"
		}
	},
	"nbformat": 4,
	"nbformat_minor": 5
}
